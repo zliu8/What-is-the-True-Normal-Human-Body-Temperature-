{
  "nbformat": 4,
  "nbformat_minor": 0,
  "metadata": {
    "colab": {
      "name": "sliderule_dsi_inferential_statistics_exercise_1.ipynb",
      "version": "0.3.2",
      "provenance": [],
      "collapsed_sections": [],
      "toc_visible": true,
      "include_colab_link": true
    },
    "kernelspec": {
      "display_name": "Python 3",
      "language": "python",
      "name": "python3"
    }
  },
  "cells": [
    {
      "cell_type": "markdown",
      "metadata": {
        "id": "view-in-github",
        "colab_type": "text"
      },
      "source": [
        "[View in Colaboratory](https://colab.research.google.com/gist/zliu8/09585e92d2d3d856aba7e90baec8861b/sliderule_dsi_inferential_statistics_exercise_1.ipynb)"
      ]
    },
    {
      "metadata": {
        "id": "7I063gP4E_Wd",
        "colab_type": "text"
      },
      "cell_type": "markdown",
      "source": [
        "# What is the True Normal Human Body Temperature? \n",
        "\n",
        "#### Background\n",
        "\n",
        "The mean normal body temperature was held to be 37$^{\\circ}$C or 98.6$^{\\circ}$F for more than 120 years since it was first conceptualized and reported by Carl Wunderlich in a famous 1868 book. But, is this value statistically correct?"
      ]
    },
    {
      "metadata": {
        "id": "ZsXo7NizE_Wf",
        "colab_type": "text"
      },
      "cell_type": "markdown",
      "source": [
        "<h3>Exercises</h3>\n",
        "\n",
        "<p>In this exercise, you will analyze a dataset of human body temperatures and employ the concepts of hypothesis testing, confidence intervals, and statistical significance.</p>\n",
        "\n",
        "<p>Answer the following questions <b>in this notebook below and submit to your Github account</b>.</p> \n",
        "\n",
        "<ol>\n",
        "<li>  Is the distribution of body temperatures normal? \n",
        "    <ul>\n",
        "    <li> Although this is not a requirement for the Central Limit Theorem to hold (read the introduction on Wikipedia's page about the CLT carefully: https://en.wikipedia.org/wiki/Central_limit_theorem), it gives us some peace of mind that the population may also be normally distributed if we assume that this sample is representative of the population.\n",
        "    <li> Think about the way you're going to check for the normality of the distribution. Graphical methods are usually used first, but there are also other ways: https://en.wikipedia.org/wiki/Normality_test\n",
        "    </ul>\n",
        "<li>  Is the sample size large? Are the observations independent?\n",
        "    <ul>\n",
        "    <li> Remember that this is a condition for the Central Limit Theorem, and hence the statistical tests we are using, to apply.\n",
        "    </ul>\n",
        "<li>  Is the true population mean really 98.6 degrees F?\n",
        "    <ul>\n",
        "    <li> First, try a bootstrap hypothesis test.\n",
        "    <li> Now, let's try frequentist statistical testing. Would you use a one-sample or two-sample test? Why?\n",
        "    <li> In this situation, is it appropriate to use the $t$ or $z$ statistic? \n",
        "    <li> Now try using the other test. How is the result be different? Why?\n",
        "    </ul>\n",
        "<li>  Draw a small sample of size 10 from the data and repeat both frequentist tests. \n",
        "    <ul>\n",
        "    <li> Which one is the correct one to use? \n",
        "    <li> What do you notice? What does this tell you about the difference in application of the $t$ and $z$ statistic?\n",
        "    </ul>\n",
        "<li>  At what temperature should we consider someone's temperature to be \"abnormal\"?\n",
        "    <ul>\n",
        "    <li> As in the previous example, try calculating everything using the boostrap approach, as well as the frequentist approach.\n",
        "    <li> Start by computing the margin of error and confidence interval. When calculating the confidence interval, keep in mind that you should use the appropriate formula for one draw, and not N draws.\n",
        "    </ul>\n",
        "<li>  Is there a significant difference between males and females in normal temperature?\n",
        "    <ul>\n",
        "    <li> What testing approach did you use and why?\n",
        "    <li> Write a story with your conclusion in the context of the original problem.\n",
        "    </ul>\n",
        "</ol>\n",
        "\n",
        "You can include written notes in notebook cells using Markdown: \n",
        "   - In the control panel at the top, choose Cell > Cell Type > Markdown\n",
        "   - Markdown syntax: http://nestacms.com/docs/creating-content/markdown-cheat-sheet\n",
        "\n",
        "#### Resources\n",
        "\n",
        "+ Information and data sources: http://www.amstat.org/publications/jse/datasets/normtemp.txt, http://www.amstat.org/publications/jse/jse_data_archive.htm\n",
        "+ Markdown syntax: http://nestacms.com/docs/creating-content/markdown-cheat-sheet\n",
        "\n",
        "****"
      ]
    },
    {
      "metadata": {
        "id": "b8spdWm1E_Wh",
        "colab_type": "code",
        "colab": {}
      },
      "cell_type": "code",
      "source": [
        "import pandas as pd\n",
        "\n",
        "df = pd.read_csv('human_body_temperature.csv')"
      ],
      "execution_count": 0,
      "outputs": []
    },
    {
      "metadata": {
        "id": "_ruszY8uE_Wn",
        "colab_type": "code",
        "colab": {}
      },
      "cell_type": "code",
      "source": [
        "import numpy as np\n",
        "from scipy import stats\n",
        "from scipy.stats import norm"
      ],
      "execution_count": 0,
      "outputs": []
    },
    {
      "metadata": {
        "id": "TPV1o3JcE_Wr",
        "colab_type": "code",
        "colab": {}
      },
      "cell_type": "code",
      "source": [
        "import matplotlib.pyplot as plt"
      ],
      "execution_count": 0,
      "outputs": []
    },
    {
      "metadata": {
        "id": "tiuO7h4vE_Ww",
        "colab_type": "code",
        "colab": {}
      },
      "cell_type": "code",
      "source": [
        "from collections import Counter"
      ],
      "execution_count": 0,
      "outputs": []
    },
    {
      "metadata": {
        "id": "2eJ-YPwME_W0",
        "colab_type": "text"
      },
      "cell_type": "markdown",
      "source": [
        "## **1. Check Normality of 'Temperature'**"
      ]
    },
    {
      "metadata": {
        "id": "DriKkXzIE_W1",
        "colab_type": "code",
        "colab": {
          "base_uri": "https://localhost:8080/",
          "height": 34
        },
        "outputId": "dd9e1502-b0fc-4093-dab4-d6bc2f9b70f9"
      },
      "cell_type": "code",
      "source": [
        "mean=np.mean(df['temperature'])\n",
        "print(mean)"
      ],
      "execution_count": 7,
      "outputs": [
        {
          "output_type": "stream",
          "text": [
            "98.24923076923075\n"
          ],
          "name": "stdout"
        }
      ]
    },
    {
      "metadata": {
        "id": "QgvlaPwoE_W5",
        "colab_type": "code",
        "colab": {}
      },
      "cell_type": "code",
      "source": [
        "std=np.std(df['temperature'])"
      ],
      "execution_count": 0,
      "outputs": []
    },
    {
      "metadata": {
        "id": "EhklU9-4E_W7",
        "colab_type": "code",
        "colab": {}
      },
      "cell_type": "code",
      "source": [
        "samples= np.random.normal(mean,std,size=10000)"
      ],
      "execution_count": 0,
      "outputs": []
    },
    {
      "metadata": {
        "id": "V9p_i3EIE_W-",
        "colab_type": "code",
        "colab": {
          "base_uri": "https://localhost:8080/",
          "height": 34
        },
        "outputId": "ef2b3335-69d3-481f-c9c1-802d6e1912bb"
      },
      "cell_type": "code",
      "source": [
        "median= np.median(df['temperature'])\n",
        "print(median)"
      ],
      "execution_count": 10,
      "outputs": [
        {
          "output_type": "stream",
          "text": [
            "98.3\n"
          ],
          "name": "stdout"
        }
      ]
    },
    {
      "metadata": {
        "id": "UPjyRmI_E_XA",
        "colab_type": "code",
        "colab": {
          "base_uri": "https://localhost:8080/",
          "height": 34
        },
        "outputId": "e82ac02d-f9d9-429e-b3da-49336ab9e451"
      },
      "cell_type": "code",
      "source": [
        "data=Counter(df['temperature'])\n",
        "data.most_common(1)"
      ],
      "execution_count": 11,
      "outputs": [
        {
          "output_type": "execute_result",
          "data": {
            "text/plain": [
              "[(98.0, 11)]"
            ]
          },
          "metadata": {
            "tags": []
          },
          "execution_count": 11
        }
      ]
    },
    {
      "metadata": {
        "id": "gwapJKRcPJVx",
        "colab_type": "text"
      },
      "cell_type": "markdown",
      "source": [
        "The above shows that observations of \"temperatures\" are normally distributed"
      ]
    },
    {
      "metadata": {
        "id": "v7V5k17_E_XF",
        "colab_type": "text"
      },
      "cell_type": "markdown",
      "source": [
        "## **2. Check whether the sample size is large and the observations are independent**"
      ]
    },
    {
      "metadata": {
        "id": "W2qRbPKbE_XF",
        "colab_type": "code",
        "colab": {
          "base_uri": "https://localhost:8080/",
          "height": 153
        },
        "outputId": "b673bda6-8b43-4e32-f364-88c948236df4"
      },
      "cell_type": "code",
      "source": [
        "df.info()"
      ],
      "execution_count": 12,
      "outputs": [
        {
          "output_type": "stream",
          "text": [
            "<class 'pandas.core.frame.DataFrame'>\n",
            "RangeIndex: 130 entries, 0 to 129\n",
            "Data columns (total 3 columns):\n",
            "temperature    130 non-null float64\n",
            "gender         130 non-null object\n",
            "heart_rate     130 non-null float64\n",
            "dtypes: float64(2), object(1)\n",
            "memory usage: 3.1+ KB\n"
          ],
          "name": "stdout"
        }
      ]
    },
    {
      "metadata": {
        "id": "hxKMhUqiE_XK",
        "colab_type": "code",
        "colab": {
          "base_uri": "https://localhost:8080/",
          "height": 34
        },
        "outputId": "75b58e46-8f7f-46ad-d7e9-dd40a1890a19"
      },
      "cell_type": "code",
      "source": [
        "def pearson_r(x,y):\n",
        "    corr_mat=np.corrcoef(x,y)\n",
        "    return corr_mat[0,1]\n",
        "r=pearson_r(df['heart_rate'], df['temperature'])\n",
        "print(r)\n"
      ],
      "execution_count": 13,
      "outputs": [
        {
          "output_type": "stream",
          "text": [
            "0.2536564027207642\n"
          ],
          "name": "stdout"
        }
      ]
    },
    {
      "metadata": {
        "id": "sWtcq1D0E_XO",
        "colab_type": "text"
      },
      "cell_type": "markdown",
      "source": [
        "There are 130 observations for the 3 variables in the data, the sample size, which is bigger than the sample size 30 in the Central Limit Theorem. The correlation between 'heart rate' and 'temperature' is not correlated, since 0.25 is small."
      ]
    },
    {
      "metadata": {
        "id": "4tFr1C8yE_XO",
        "colab_type": "text"
      },
      "cell_type": "markdown",
      "source": [
        "## **3. Is the true population mean really 98.6 degrees F?**"
      ]
    },
    {
      "metadata": {
        "id": "HCaQ53lqE_XP",
        "colab_type": "code",
        "colab": {}
      },
      "cell_type": "code",
      "source": [
        "######The Null hypothesis is that the mean equals to 98.6, the Alternative hypothesis is that mean does not equal to 98.6"
      ],
      "execution_count": 0,
      "outputs": []
    },
    {
      "metadata": {
        "id": "wTG5HChKE_XR",
        "colab_type": "code",
        "colab": {
          "base_uri": "https://localhost:8080/",
          "height": 34
        },
        "outputId": "2fba3fee-2b8d-4c04-fd9d-eceac2bcd116"
      },
      "cell_type": "code",
      "source": [
        "sqrt=np.sqrt(130)\n",
        "SE=std/sqrt\n",
        "test_mean=98.6\n",
        "Z=((mean - test_mean) / SE)\n",
        "print(Z)"
      ],
      "execution_count": 14,
      "outputs": [
        {
          "output_type": "stream",
          "text": [
            "-5.4759252020785585\n"
          ],
          "name": "stdout"
        }
      ]
    },
    {
      "metadata": {
        "id": "TsYAT7mQE_XV",
        "colab_type": "code",
        "colab": {
          "base_uri": "https://localhost:8080/",
          "height": 34
        },
        "outputId": "16e097ae-1305-42c8-974d-1e207cc25cce"
      },
      "cell_type": "code",
      "source": [
        "stats.ttest_1samp(df.temperature, test_mean)"
      ],
      "execution_count": 15,
      "outputs": [
        {
          "output_type": "execute_result",
          "data": {
            "text/plain": [
              "Ttest_1sampResult(statistic=-5.4548232923645195, pvalue=2.4106320415561276e-07)"
            ]
          },
          "metadata": {
            "tags": []
          },
          "execution_count": 15
        }
      ]
    },
    {
      "metadata": {
        "id": "gn7Tr0lLE_XX",
        "colab_type": "code",
        "colab": {}
      },
      "cell_type": "code",
      "source": [
        "#####since the result is significant, the we reject the null hypothesis. So population mean is not 98.6."
      ],
      "execution_count": 0,
      "outputs": []
    },
    {
      "metadata": {
        "id": "ceR5Q1kjE_Xb",
        "colab_type": "text"
      },
      "cell_type": "markdown",
      "source": [
        "## **4. Draw a small sample of size 10 from the data and repeat both frequentist tests.**"
      ]
    },
    {
      "metadata": {
        "id": "NB-waeFeJQ7G",
        "colab_type": "code",
        "colab": {
          "base_uri": "https://localhost:8080/",
          "height": 204
        },
        "outputId": "af1c5ab8-54da-430e-f993-52723c111b03"
      },
      "cell_type": "code",
      "source": [
        "Sample_new=df.sample(n=10)\n",
        "Sample_new.head()\n"
      ],
      "execution_count": 24,
      "outputs": [
        {
          "output_type": "execute_result",
          "data": {
            "text/html": [
              "<div>\n",
              "<style scoped>\n",
              "    .dataframe tbody tr th:only-of-type {\n",
              "        vertical-align: middle;\n",
              "    }\n",
              "\n",
              "    .dataframe tbody tr th {\n",
              "        vertical-align: top;\n",
              "    }\n",
              "\n",
              "    .dataframe thead th {\n",
              "        text-align: right;\n",
              "    }\n",
              "</style>\n",
              "<table border=\"1\" class=\"dataframe\">\n",
              "  <thead>\n",
              "    <tr style=\"text-align: right;\">\n",
              "      <th></th>\n",
              "      <th>temperature</th>\n",
              "      <th>gender</th>\n",
              "      <th>heart_rate</th>\n",
              "    </tr>\n",
              "  </thead>\n",
              "  <tbody>\n",
              "    <tr>\n",
              "      <th>81</th>\n",
              "      <td>98.0</td>\n",
              "      <td>M</td>\n",
              "      <td>67.0</td>\n",
              "    </tr>\n",
              "    <tr>\n",
              "      <th>121</th>\n",
              "      <td>97.9</td>\n",
              "      <td>F</td>\n",
              "      <td>68.0</td>\n",
              "    </tr>\n",
              "    <tr>\n",
              "      <th>111</th>\n",
              "      <td>98.0</td>\n",
              "      <td>F</td>\n",
              "      <td>89.0</td>\n",
              "    </tr>\n",
              "    <tr>\n",
              "      <th>94</th>\n",
              "      <td>97.8</td>\n",
              "      <td>M</td>\n",
              "      <td>58.0</td>\n",
              "    </tr>\n",
              "    <tr>\n",
              "      <th>36</th>\n",
              "      <td>99.1</td>\n",
              "      <td>M</td>\n",
              "      <td>71.0</td>\n",
              "    </tr>\n",
              "  </tbody>\n",
              "</table>\n",
              "</div>"
            ],
            "text/plain": [
              "     temperature gender  heart_rate\n",
              "81          98.0      M        67.0\n",
              "121         97.9      F        68.0\n",
              "111         98.0      F        89.0\n",
              "94          97.8      M        58.0\n",
              "36          99.1      M        71.0"
            ]
          },
          "metadata": {
            "tags": []
          },
          "execution_count": 24
        }
      ]
    },
    {
      "metadata": {
        "id": "la6lH3GGMhyP",
        "colab_type": "code",
        "colab": {
          "base_uri": "https://localhost:8080/",
          "height": 51
        },
        "outputId": "1a1a27b5-747b-4275-f66c-f48bd75d3ee0"
      },
      "cell_type": "code",
      "source": [
        "std_sample=np.std(Sample_new['temperature'])\n",
        "mean_sample=np.mean(Sample_new['temperature'])\n",
        "print(std_sample)\n",
        "print(mean_sample)"
      ],
      "execution_count": 25,
      "outputs": [
        {
          "output_type": "stream",
          "text": [
            "0.3638681079732042\n",
            "98.16\n"
          ],
          "name": "stdout"
        }
      ]
    },
    {
      "metadata": {
        "id": "sWGnha-IE_Xf",
        "colab_type": "code",
        "colab": {
          "base_uri": "https://localhost:8080/",
          "height": 34
        },
        "outputId": "7ce50b3b-ce55-45e2-b898-a2e1d22e6909"
      },
      "cell_type": "code",
      "source": [
        "sample_sqrt=np.sqrt(10)\n",
        "sample_SE=std_sample/sample_sqrt\n",
        "test_mean=98.6\n",
        "Z_sample=((mean_sample - test_mean) / sample_SE)\n",
        "print(Z_sample)"
      ],
      "execution_count": 26,
      "outputs": [
        {
          "output_type": "stream",
          "text": [
            "-3.82391899698048\n"
          ],
          "name": "stdout"
        }
      ]
    },
    {
      "metadata": {
        "id": "J3EO5ieMMsOm",
        "colab_type": "code",
        "colab": {
          "base_uri": "https://localhost:8080/",
          "height": 34
        },
        "outputId": "25ca4e81-e77a-4b85-eacb-7aebdec5b6a4"
      },
      "cell_type": "code",
      "source": [
        "stats.ttest_1samp(Sample_new.temperature, test_mean)"
      ],
      "execution_count": 27,
      "outputs": [
        {
          "output_type": "execute_result",
          "data": {
            "text/plain": [
              "Ttest_1sampResult(statistic=-3.627688085533454, pvalue=0.005505409616664572)"
            ]
          },
          "metadata": {
            "tags": []
          },
          "execution_count": 27
        }
      ]
    },
    {
      "metadata": {
        "id": "scHwGAR3NCLB",
        "colab_type": "text"
      },
      "cell_type": "markdown",
      "source": [
        "The p-value shows the hypothesis test is statistically significant, \n",
        "we reject the null hypothesis. So population mean is not 98.6."
      ]
    },
    {
      "metadata": {
        "id": "EyyxqcjUNOkk",
        "colab_type": "code",
        "colab": {
          "base_uri": "https://localhost:8080/",
          "height": 34
        },
        "outputId": "ae0688d9-04a0-4580-e5b4-2c024fd19014"
      },
      "cell_type": "code",
      "source": [
        "\n",
        "sample_r=pearson_r(Sample_new['heart_rate'], Sample_new['temperature'])\n",
        "print(sample_r)"
      ],
      "execution_count": 29,
      "outputs": [
        {
          "output_type": "stream",
          "text": [
            "0.1592276996996262\n"
          ],
          "name": "stdout"
        }
      ]
    },
    {
      "metadata": {
        "id": "ORSy_WtSO75Q",
        "colab_type": "text"
      },
      "cell_type": "markdown",
      "source": [
        "Since the result is significant, the we reject the null hypothesis. So population mean is not 98.6.\n"
      ]
    },
    {
      "metadata": {
        "id": "Vk1smIezPTEX",
        "colab_type": "text"
      },
      "cell_type": "markdown",
      "source": [
        "## **5. At what temperature should we consider someone's temperature to be \"abnormal\"?**\n"
      ]
    },
    {
      "metadata": {
        "id": "vOaBvBW8PeDL",
        "colab_type": "code",
        "colab": {}
      },
      "cell_type": "code",
      "source": [
        "def bootstrap_replicate_1d(data, func):\n",
        "     bs_sample=np.random.choice(data,size=len(data))\n",
        "     return func(bs_sample)\n",
        "\n",
        "#####many bootstrap replicates\n",
        "bs_replicates=np.empty(10000)\n",
        "for i in range(10000):\n",
        "     bs_replicates[i]=bootstrap_replicate_1d(df.temperature, np.mean)\n"
      ],
      "execution_count": 0,
      "outputs": []
    },
    {
      "metadata": {
        "id": "GmewlFqgPaoW",
        "colab_type": "code",
        "colab": {
          "base_uri": "https://localhost:8080/",
          "height": 34
        },
        "outputId": "878f1064-d920-43a2-df94-9887de5d9805"
      },
      "cell_type": "code",
      "source": [
        "conf_int=np.percentile(bs_replicates, [2.5,97.5])\n",
        "print(conf_int)"
      ],
      "execution_count": 52,
      "outputs": [
        {
          "output_type": "stream",
          "text": [
            "[98.12461538 98.37153846]\n"
          ],
          "name": "stdout"
        }
      ]
    },
    {
      "metadata": {
        "id": "uUsghGSeczUA",
        "colab_type": "text"
      },
      "cell_type": "markdown",
      "source": [
        "Any temperature falls outside the confidence interval is abnormal. Given the CI, it is abnormal if one's temperature is lower than98.125 and higher than 98.372."
      ]
    },
    {
      "metadata": {
        "id": "L-kphA2mdP0P",
        "colab_type": "text"
      },
      "cell_type": "markdown",
      "source": [
        "## **6. Is there a significant difference between males and females in normal temperature?**"
      ]
    },
    {
      "metadata": {
        "id": "FZjb6BziCEsP",
        "colab_type": "code",
        "colab": {
          "base_uri": "https://localhost:8080/",
          "height": 153
        },
        "outputId": "ef51d98a-c880-4ac7-9076-368c15914bac"
      },
      "cell_type": "code",
      "source": [
        "F= df[df.gender=='F']\n",
        "M= df[df.gender=='M']\n",
        "F.info()\n"
      ],
      "execution_count": 60,
      "outputs": [
        {
          "output_type": "stream",
          "text": [
            "<class 'pandas.core.frame.DataFrame'>\n",
            "Int64Index: 65 entries, 0 to 129\n",
            "Data columns (total 3 columns):\n",
            "temperature    65 non-null float64\n",
            "gender         65 non-null object\n",
            "heart_rate     65 non-null float64\n",
            "dtypes: float64(2), object(1)\n",
            "memory usage: 2.0+ KB\n"
          ],
          "name": "stdout"
        }
      ]
    },
    {
      "metadata": {
        "id": "8e-XIm0yGMWL",
        "colab_type": "code",
        "colab": {
          "base_uri": "https://localhost:8080/",
          "height": 153
        },
        "outputId": "b5468bcf-8a8a-4387-df63-b1e65e3c792d"
      },
      "cell_type": "code",
      "source": [
        "M.info()"
      ],
      "execution_count": 62,
      "outputs": [
        {
          "output_type": "stream",
          "text": [
            "<class 'pandas.core.frame.DataFrame'>\n",
            "Int64Index: 65 entries, 2 to 128\n",
            "Data columns (total 3 columns):\n",
            "temperature    65 non-null float64\n",
            "gender         65 non-null object\n",
            "heart_rate     65 non-null float64\n",
            "dtypes: float64(2), object(1)\n",
            "memory usage: 2.0+ KB\n"
          ],
          "name": "stdout"
        }
      ]
    },
    {
      "metadata": {
        "id": "pqkuA107CupY",
        "colab_type": "code",
        "colab": {
          "base_uri": "https://localhost:8080/",
          "height": 34
        },
        "outputId": "179a77bf-7c4c-41e4-95c5-5a05062db186"
      },
      "cell_type": "code",
      "source": [
        "diff_of_means=np.mean(F.temperature)-np.mean(M.temperature)\n",
        "print(diff_of_means)"
      ],
      "execution_count": 56,
      "outputs": [
        {
          "output_type": "stream",
          "text": [
            "0.2892307692307696\n"
          ],
          "name": "stdout"
        }
      ]
    },
    {
      "metadata": {
        "id": "rIHhZxi0FkbU",
        "colab_type": "code",
        "colab": {
          "base_uri": "https://localhost:8080/",
          "height": 34
        },
        "outputId": "8c4dc968-0aec-4763-89e8-bc2097b65850"
      },
      "cell_type": "code",
      "source": [
        "from scipy.stats import ttest_ind\n",
        "ttest_ind(F.temperature, M.temperature)"
      ],
      "execution_count": 58,
      "outputs": [
        {
          "output_type": "execute_result",
          "data": {
            "text/plain": [
              "Ttest_indResult(statistic=2.2854345381656103, pvalue=0.02393188312239561)"
            ]
          },
          "metadata": {
            "tags": []
          },
          "execution_count": 58
        }
      ]
    },
    {
      "metadata": {
        "id": "xW2kOLs-IU8F",
        "colab_type": "text"
      },
      "cell_type": "markdown",
      "source": [
        "The independent t-test result shows that there is a statistically significant difference in the temperature for females and males."
      ]
    },
    {
      "metadata": {
        "id": "nK0dx9rfIghE",
        "colab_type": "text"
      },
      "cell_type": "markdown",
      "source": [
        "Another way to look at this question is to calculate the confidence interval."
      ]
    },
    {
      "metadata": {
        "id": "X5boxj9TF9WW",
        "colab_type": "code",
        "colab": {
          "base_uri": "https://localhost:8080/",
          "height": 34
        },
        "outputId": "e471a28e-645d-43b3-ac1a-555ef352c931"
      },
      "cell_type": "code",
      "source": [
        "df=65+65-2\n",
        "print(df)\n"
      ],
      "execution_count": 66,
      "outputs": [
        {
          "output_type": "stream",
          "text": [
            "128\n"
          ],
          "name": "stdout"
        }
      ]
    },
    {
      "metadata": {
        "id": "KvzabgzeGXq_",
        "colab_type": "code",
        "colab": {
          "base_uri": "https://localhost:8080/",
          "height": 34
        },
        "outputId": "f8a15825-02ac-4cc1-94ad-7006e68d60b6"
      },
      "cell_type": "code",
      "source": [
        "from scipy.stats import t\n",
        "t_val=t.ppf([0.975], 128)\n",
        "print(t_val)"
      ],
      "execution_count": 69,
      "outputs": [
        {
          "output_type": "stream",
          "text": [
            "[1.97867085]\n"
          ],
          "name": "stdout"
        }
      ]
    },
    {
      "metadata": {
        "id": "_GoX62MgHEqs",
        "colab_type": "code",
        "colab": {}
      },
      "cell_type": "code",
      "source": [
        "from math import sqrt\n",
        "N1 = 65\n",
        "N2 = 65\n",
        "std1 = F.temperature.std()\n",
        "std2 = M.temperature.std()\n",
        "std_N1N2 = sqrt(((N1 - 1)*(std1)**2 + (N2 - 1)*(std2)**2) / 128) "
      ],
      "execution_count": 0,
      "outputs": []
    },
    {
      "metadata": {
        "id": "ga4nzb4tHtU_",
        "colab_type": "code",
        "colab": {
          "base_uri": "https://localhost:8080/",
          "height": 34
        },
        "outputId": "8da50510-a3f9-49c9-a44d-4d105452264c"
      },
      "cell_type": "code",
      "source": [
        "MoE=t.ppf(0.975,128) * std_N1N2 * sqrt(1/N1 + 1/N2)\n",
        "print(MoE)"
      ],
      "execution_count": 74,
      "outputs": [
        {
          "output_type": "stream",
          "text": [
            "0.25040861262481573\n"
          ],
          "name": "stdout"
        }
      ]
    },
    {
      "metadata": {
        "id": "w3vOZHNvIk6w",
        "colab_type": "code",
        "colab": {
          "base_uri": "https://localhost:8080/",
          "height": 51
        },
        "outputId": "e077e54f-d625-4a5e-95a7-b9a0db0a1097"
      },
      "cell_type": "code",
      "source": [
        "print ('\\nThe difference between groups is {:3.1f} [{:3.1f} to {:3.1f}] (mean [95% CI])'.format(diff_of_means, diff_of_means - MoE, diff_of_means + MoE))"
      ],
      "execution_count": 75,
      "outputs": [
        {
          "output_type": "stream",
          "text": [
            "\n",
            "The difference between groups is 0.3 [0.0 to 0.5] (mean [95% CI])\n"
          ],
          "name": "stdout"
        }
      ]
    },
    {
      "metadata": {
        "id": "Eb_oDHqWJ6A0",
        "colab_type": "text"
      },
      "cell_type": "markdown",
      "source": [
        "The result above shows that we can be 95% certain that the true difference in means between the temperature of females and males falls between 0 to 0.5. The current difference 0.3 is in this range, so there is a statistically significant difference in the temperature for females and males."
      ]
    }
  ]
}